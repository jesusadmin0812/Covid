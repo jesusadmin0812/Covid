{
 "cells": [
  {
   "cell_type": "code",
   "execution_count": 1,
   "metadata": {},
   "outputs": [
    {
     "name": "stdout",
     "output_type": "stream",
     "text": [
      "Tabla de ciudades creada y registros agregados.\n",
      "Tabla de países creada y registros agregados.\n"
     ]
    }
   ],
   "source": [
    "# import json\n",
    "\n",
    "# # Función para crear y llenar la tabla de ciudades\n",
    "# def crear_tabla_ciudades():\n",
    "#     datos_ciudades = [\n",
    "#         {'Id_ciudad': 1, 'id_pais': 1, 'nombre': 'Madrid', 'coordenadas': '40.4168° N, 3.7038° W'},\n",
    "#         {'Id_ciudad': 2, 'id_pais': 1, 'nombre': 'Barcelona', 'coordenadas': '41.3851° N, 2.1734° E'},\n",
    "#         {'Id_ciudad': 3, 'id_pais': 2, 'nombre': 'Londres', 'coordenadas': '51.5074° N, 0.1278° W'},\n",
    "#         {'Id_ciudad': 4, 'id_pais': 2, 'nombre': 'París', 'coordenadas': '48.8566° N, 2.3522° E'},\n",
    "#         {'Id_ciudad': 5, 'id_pais': 3, 'nombre': 'Tokio', 'coordenadas': '35.6895° N, 139.6917° E'},\n",
    "#         {'Id_ciudad': 6, 'id_pais': 3, 'nombre': 'Osaka', 'coordenadas': '34.6937° N, 135.5023° E'}\n",
    "#     ]\n",
    "    \n",
    "#     with open('ciudades.json', 'w') as file:\n",
    "#         json.dump(datos_ciudades, file, indent=4)\n",
    "#     print(\"Tabla de ciudades creada y registros agregados.\")\n",
    "\n",
    "# # Función para crear y llenar la tabla de países\n",
    "# def crear_tabla_paises():\n",
    "#     datos_paises = [\n",
    "#         {'id_pais': 1, 'nombre': 'España'},\n",
    "#         {'id_pais': 2, 'nombre': 'Reino Unido'},\n",
    "#         {'id_pais': 3, 'nombre': 'Japón'}\n",
    "#     ]\n",
    "    \n",
    "#     with open('paises.json', 'w') as file:\n",
    "#         json.dump(datos_paises, file, indent=4)\n",
    "#     print(\"Tabla de países creada y registros agregados.\")\n",
    "\n",
    "# # Crear y llenar la tabla de ciudades\n",
    "# crear_tabla_ciudades()\n",
    "\n",
    "# # Crear y llenar la tabla de países\n",
    "# crear_tabla_paises()\n"
   ]
  },
  {
   "cell_type": "code",
   "execution_count": 1,
   "metadata": {},
   "outputs": [
    {
     "name": "stdout",
     "output_type": "stream",
     "text": [
      "Tabla de ciudades creada y registros agregados.\n",
      "Tabla de países creada y registros agregados.\n"
     ]
    }
   ],
   "source": [
    "import json\n",
    "import os\n",
    "\n",
    "# Función para crear y llenar la tabla de ciudades\n",
    "def crear_tabla_ciudades():\n",
    "    datos_ciudades = [\n",
    "        {'Id_ciudad': 1, 'id_pais': 1, 'nombre': 'Madrid', 'coordenadas': '40.4168° N, 3.7038° W'},\n",
    "        {'Id_ciudad': 2, 'id_pais': 1, 'nombre': 'Barcelona', 'coordenadas': '41.3851° N, 2.1734° E'},\n",
    "        {'Id_ciudad': 3, 'id_pais': 2, 'nombre': 'Londres', 'coordenadas': '51.5074° N, 0.1278° W'},\n",
    "        {'Id_ciudad': 4, 'id_pais': 2, 'nombre': 'Birmingham', 'coordenadas': '48.8566° N, 2.3522° E'},\n",
    "        {'Id_ciudad': 5, 'id_pais': 3, 'nombre': 'Tokio', 'coordenadas': '35.6895° N, 139.6917° E'},\n",
    "        {'Id_ciudad': 6, 'id_pais': 3, 'nombre': 'Osaka', 'coordenadas': '34.6937° N, 135.5023° E'}\n",
    "    ]\n",
    "    \n",
    "    # Ruta completa de la carpeta 'json'\n",
    "    carpeta_json = './json'\n",
    "    \n",
    "    # Verificar si la carpeta 'json' existe, si no, crearla\n",
    "    if not os.path.exists(carpeta_json):\n",
    "        os.makedirs(carpeta_json)\n",
    "    \n",
    "    with open(os.path.join(carpeta_json, 'ciudades.json'), 'w') as file:\n",
    "        json.dump(datos_ciudades, file, indent=4)\n",
    "    print(\"Tabla de ciudades creada y registros agregados.\")\n",
    "\n",
    "# Función para crear y llenar la tabla de países\n",
    "def crear_tabla_paises():\n",
    "    datos_paises = [\n",
    "        {'id_pais': 1, 'nombre': 'España'},\n",
    "        {'id_pais': 2, 'nombre': 'Reino Unido'},\n",
    "        {'id_pais': 3, 'nombre': 'Japón'}\n",
    "    ]\n",
    "    \n",
    "    # Ruta completa de la carpeta 'json'\n",
    "    carpeta_json = './json'\n",
    "    \n",
    "    # Verificar si la carpeta 'json' existe, si no, crearla\n",
    "    if not os.path.exists(carpeta_json):\n",
    "        os.makedirs(carpeta_json)\n",
    "    \n",
    "    with open(os.path.join(carpeta_json, 'paises.json'), 'w') as file:\n",
    "        json.dump(datos_paises, file, indent=4)\n",
    "    print(\"Tabla de países creada y registros agregados.\")\n",
    "\n",
    "# Crear y llenar la tabla de ciudades\n",
    "crear_tabla_ciudades()\n",
    "\n",
    "# Crear y llenar la tabla de países\n",
    "crear_tabla_paises()\n"
   ]
  }
 ],
 "metadata": {
  "kernelspec": {
   "display_name": "pia2",
   "language": "python",
   "name": "python3"
  },
  "language_info": {
   "codemirror_mode": {
    "name": "ipython",
    "version": 3
   },
   "file_extension": ".py",
   "mimetype": "text/x-python",
   "name": "python",
   "nbconvert_exporter": "python",
   "pygments_lexer": "ipython3",
   "version": "3.8.19"
  }
 },
 "nbformat": 4,
 "nbformat_minor": 2
}
